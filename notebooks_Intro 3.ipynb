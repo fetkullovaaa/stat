{
  "metadata": {
    "kernelspec": {
      "name": "python",
      "display_name": "Python (Pyodide)",
      "language": "python"
    },
    "language_info": {
      "codemirror_mode": {
        "name": "python",
        "version": 3
      },
      "file_extension": ".py",
      "mimetype": "text/x-python",
      "name": "python",
      "nbconvert_exporter": "python",
      "pygments_lexer": "ipython3",
      "version": "3.8"
    }
  },
  "nbformat_minor": 5,
  "nbformat": 4,
  "cells": [
    {
      "cell_type": "code",
      "source": "str = int(input())\nstr = str*2\nprint(str)",
      "metadata": {
        "trusted": true
      },
      "execution_count": 1,
      "outputs": [
        {
          "name": "stdout",
          "text": "1292\n",
          "output_type": "stream"
        }
      ],
      "id": "75a148bf-c788-4f3c-b569-39a470a6468d"
    },
    {
      "cell_type": "code",
      "source": "str = int(input())\nstr = str**2\nprint(str)",
      "metadata": {
        "trusted": true
      },
      "execution_count": 2,
      "outputs": [
        {
          "name": "stdout",
          "text": "529\n",
          "output_type": "stream"
        }
      ],
      "id": "0bf98525-9e51-4d99-909e-9715ecc6d9b5"
    },
    {
      "cell_type": "code",
      "source": "hour = int(input())\nminutes = int(input())\nseconds = int(input())\nseconds1 = hour * 3600 + minutes * 60 + seconds\ndaypart = seconds1/(24*60*60)\nprint (\"seconds=\", seconds1, \"daypart=\", daypart)",
      "metadata": {
        "trusted": true
      },
      "execution_count": 3,
      "outputs": [
        {
          "name": "stdout",
          "text": "seconds= 71652 daypart= 0.8293055555555555\n",
          "output_type": "stream"
        }
      ],
      "id": "410c0fc8-304f-4ee0-b93d-5e55040928c1"
    },
    {
      "cell_type": "code",
      "source": "chislo = input()\nif chislo % 10 == 7:\n    print (True)\nelse:\n    print(False)\n",
      "metadata": {
        "trusted": true
      },
      "execution_count": 4,
      "outputs": [
        {
          "name": "stdout",
          "text": "True\n",
          "output_type": "stream"
        }
      ],
      "id": "82286cc0-1286-4e6f-b23f-31802ff8d91e"
    },
    {
      "cell_type": "code",
      "source": "",
      "metadata": {},
      "execution_count": null,
      "outputs": [],
      "id": "5c1aa6b7-a972-4791-a830-6e36de5b7fdc"
    }
  ]
}
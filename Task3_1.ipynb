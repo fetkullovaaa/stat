{
  "nbformat": 4,
  "nbformat_minor": 0,
  "metadata": {
    "colab": {
      "provenance": []
    },
    "kernelspec": {
      "name": "python3",
      "display_name": "Python 3"
    },
    "language_info": {
      "name": "python"
    }
  },
  "cells": [
    {
      "cell_type": "markdown",
      "source": [],
      "metadata": {
        "id": "UD95f7hViRZy"
      }
    },
    {
      "cell_type": "markdown",
      "source": [
        "Вводится вектор. Вывести максимум из его элементов."
      ],
      "metadata": {
        "id": "F_0yPumtiSQH"
      }
    },
    {
      "cell_type": "code",
      "source": [
        "n = map(int, (input().split())) \n",
        "print(max((n)))"
      ],
      "metadata": {
        "colab": {
          "base_uri": "https://localhost:8080/"
        },
        "id": "wLxk3U5ejRZl",
        "outputId": "d6eb16c8-0d8c-40fe-b3d8-d3bad8d842d4"
      },
      "execution_count": null,
      "outputs": [
        {
          "output_type": "stream",
          "name": "stdout",
          "text": [
            "12 23 444\n",
            "444\n"
          ]
        }
      ]
    },
    {
      "cell_type": "markdown",
      "source": [
        "Вводится вектор. Заменить в нём каждое число Фибоначчи на следующее."
      ],
      "metadata": {
        "id": "Uy4eAK56xFox"
      }
    },
    {
      "cell_type": "code",
      "source": [
        "fib1=1\n",
        "fib2=1\n",
        "v = list(map(int, input().split()))\n",
        "maxv = max(v)\n",
        "i = 0\n",
        "fs = []\n",
        "while i <= maxv:\n",
        "  fib_sum=fib1+fib2\n",
        "  fib1 = fib2\n",
        "  fib2 = fib_sum\n",
        "  i = fib_sum\n",
        "  fs.append(i)\n",
        "fs = list(map(int, fs))\n",
        "print(fs)\n",
        "result = []\n",
        "for e in v:\n",
        "  for j in fs:\n",
        "    if j==e:\n",
        "      index = fs.index(j)+1\n",
        "      new_e = fs[index]\n",
        "      e = new_e\n",
        "      break\n",
        "    else:\n",
        "      continue\n",
        "  result.append(e)\n",
        "print(result)"
      ],
      "metadata": {
        "colab": {
          "base_uri": "https://localhost:8080/"
        },
        "id": "suwov0YaMVwi",
        "outputId": "5c9f40c6-75ad-4109-bd36-278259995b36"
      },
      "execution_count": null,
      "outputs": [
        {
          "output_type": "stream",
          "name": "stdout",
          "text": [
            "6 64 89 222 13 62 5\n",
            "[2, 3, 5, 8, 13, 21, 34, 55, 89, 144, 233]\n",
            "[6, 64, 144, 222, 21, 62, 8]\n"
          ]
        }
      ]
    },
    {
      "cell_type": "markdown",
      "source": [
        "Напишите программу, которая помогает определить какие вещи могут поместиться в рюкзак. Вводится существующий объем рюкзака. Затем вводятся объемы всех вещей, которые хочется туда поместить. Нужно вывести список объемов вещей, которые поместятся в рюкзак. Постарайтесь максимизировать кол-во вошедших вещей."
      ],
      "metadata": {
        "id": "Rx_rsaQ_FewS"
      }
    },
    {
      "cell_type": "code",
      "source": [
        "bag = int(input())\n",
        "things = list(map(int, input().split()))\n",
        "a = []\n",
        "for i in things:\n",
        "  if bag - i >= 0:\n",
        "    bag = bag - i\n",
        "    a.append(i)\n",
        "print(a)\n",
        "\n",
        "\n",
        "\n",
        "\n"
      ],
      "metadata": {
        "id": "1MLo4vLfFrf7",
        "colab": {
          "base_uri": "https://localhost:8080/"
        },
        "outputId": "15a2b063-d1b6-4b79-cbfd-c15af40a6ee8"
      },
      "execution_count": 27,
      "outputs": [
        {
          "output_type": "stream",
          "name": "stdout",
          "text": [
            "20\n",
            "2 4 8 12 16\n",
            "[2, 4, 8]\n"
          ]
        }
      ]
    },
    {
      "cell_type": "markdown",
      "source": [
        "Данные об email-адресах студентов хранятся в словаре: {домен:логины} . Нужно дополнить код таким образом, чтобы он вывел все адреса в алфавитном порядке и в формате имя_пользователя@домен"
      ],
      "metadata": {
        "id": "VUynmm9OFuJ9"
      }
    },
    {
      "cell_type": "code",
      "source": [
        "emails = {rea.ru: [misha, pasha], study.com: [olga, nastay, igor]}\n",
        "print(*sorted({i + '@' + k for k, v in emails.items() for i in v}), sep = '\\n')"
      ],
      "metadata": {
        "id": "k06bgFitFzaf",
        "colab": {
          "base_uri": "https://localhost:8080/",
          "height": 189
        },
        "outputId": "2e153f4b-9db9-4547-f8dc-69bfb6116a39"
      },
      "execution_count": 26,
      "outputs": [
        {
          "output_type": "error",
          "ename": "NameError",
          "evalue": "ignored",
          "traceback": [
            "\u001b[0;31m---------------------------------------------------------------------------\u001b[0m",
            "\u001b[0;31mNameError\u001b[0m                                 Traceback (most recent call last)",
            "\u001b[0;32m<ipython-input-26-852637991e26>\u001b[0m in \u001b[0;36m<module>\u001b[0;34m\u001b[0m\n\u001b[0;32m----> 1\u001b[0;31m \u001b[0memails\u001b[0m \u001b[0;34m=\u001b[0m \u001b[0;34m{\u001b[0m\u001b[0mrea\u001b[0m\u001b[0;34m.\u001b[0m\u001b[0mru\u001b[0m\u001b[0;34m:\u001b[0m \u001b[0;34m[\u001b[0m\u001b[0mmisha\u001b[0m\u001b[0;34m,\u001b[0m \u001b[0mpasha\u001b[0m\u001b[0;34m]\u001b[0m\u001b[0;34m,\u001b[0m \u001b[0mstudy\u001b[0m\u001b[0;34m.\u001b[0m\u001b[0mcom\u001b[0m\u001b[0;34m:\u001b[0m \u001b[0;34m[\u001b[0m\u001b[0molga\u001b[0m\u001b[0;34m,\u001b[0m \u001b[0mnastay\u001b[0m\u001b[0;34m,\u001b[0m \u001b[0migor\u001b[0m\u001b[0;34m]\u001b[0m\u001b[0;34m}\u001b[0m\u001b[0;34m\u001b[0m\u001b[0;34m\u001b[0m\u001b[0m\n\u001b[0m\u001b[1;32m      2\u001b[0m \u001b[0mprint\u001b[0m\u001b[0;34m(\u001b[0m\u001b[0;34m*\u001b[0m\u001b[0msorted\u001b[0m\u001b[0;34m(\u001b[0m\u001b[0;34m{\u001b[0m\u001b[0mi\u001b[0m \u001b[0;34m+\u001b[0m \u001b[0;34m'@'\u001b[0m \u001b[0;34m+\u001b[0m \u001b[0mk\u001b[0m \u001b[0;32mfor\u001b[0m \u001b[0mk\u001b[0m\u001b[0;34m,\u001b[0m \u001b[0mv\u001b[0m \u001b[0;32min\u001b[0m \u001b[0memails\u001b[0m\u001b[0;34m.\u001b[0m\u001b[0mitems\u001b[0m\u001b[0;34m(\u001b[0m\u001b[0;34m)\u001b[0m \u001b[0;32mfor\u001b[0m \u001b[0mi\u001b[0m \u001b[0;32min\u001b[0m \u001b[0mv\u001b[0m\u001b[0;34m}\u001b[0m\u001b[0;34m)\u001b[0m\u001b[0;34m,\u001b[0m \u001b[0msep\u001b[0m \u001b[0;34m=\u001b[0m \u001b[0;34m'\\n'\u001b[0m\u001b[0;34m)\u001b[0m\u001b[0;34m\u001b[0m\u001b[0;34m\u001b[0m\u001b[0m\n",
            "\u001b[0;31mNameError\u001b[0m: name 'rea' is not defined"
          ]
        }
      ]
    },
    {
      "cell_type": "code",
      "source": [],
      "metadata": {
        "id": "RO1G1uu3zqZ4"
      },
      "execution_count": null,
      "outputs": []
    },
    {
      "cell_type": "markdown",
      "source": [],
      "metadata": {
        "id": "vqs_WCgFwCzy"
      }
    }
  ]
}
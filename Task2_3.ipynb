{
  "nbformat": 4,
  "nbformat_minor": 0,
  "metadata": {
    "colab": {
      "provenance": []
    },
    "kernelspec": {
      "name": "python3",
      "display_name": "Python 3"
    },
    "language_info": {
      "name": "python"
    }
  },
  "cells": [
    {
      "cell_type": "markdown",
      "source": [],
      "metadata": {
        "id": "FdKhLzPkprc9"
      }
    },
    {
      "cell_type": "markdown",
      "source": [
        "Вводится число. Вывести среднее арифметическое (с точностью до двух знаков после запятой) тех чисел в диапазоне от единицы до введённого числа, которые делятся 5 или являются четными.\n",
        "23\t11.69\n"
      ],
      "metadata": {
        "id": "Lp6yKgs5psdW"
      }
    },
    {
      "cell_type": "code",
      "source": [
        "chislo = int(input())\n",
        "summ = 0\n",
        "sr = 0\n",
        "k = 0\n",
        "for i in range (0,chislo+1):\n",
        "    if i%5==0 or i%2!=0:\n",
        "        summ += i\n",
        "        k+=1\n",
        "    sr = summ/k\n",
        "print(round(sr, 2))"
      ],
      "metadata": {
        "id": "JPMOEt7GptlZ"
      },
      "execution_count": null,
      "outputs": []
    }
  ]
}
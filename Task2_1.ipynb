{
  "nbformat": 4,
  "nbformat_minor": 0,
  "metadata": {
    "colab": {
      "provenance": []
    },
    "kernelspec": {
      "name": "python3",
      "display_name": "Python 3"
    },
    "language_info": {
      "name": "python"
    }
  },
  "cells": [
    {
      "cell_type": "markdown",
      "source": [],
      "metadata": {
        "id": "uBYXG-E_jQDm"
      }
    },
    {
      "cell_type": "markdown",
      "source": [
        "На вход подается строка, состоящая из одного числа. Напишите программу, которая удваивает его."
      ],
      "metadata": {
        "id": "Z04pfFKGjR6h"
      }
    },
    {
      "cell_type": "code",
      "source": [
        "str = int(input())\n",
        "str = str*2\n",
        "print(str)\n"
      ],
      "metadata": {
        "colab": {
          "base_uri": "https://localhost:8080/"
        },
        "id": "J8TW0_fAjYmg",
        "outputId": "bc1c1e44-dfcc-461c-d182-c61b197f316d"
      },
      "execution_count": 1,
      "outputs": [
        {
          "output_type": "stream",
          "name": "stdout",
          "text": [
            "22\n",
            "44\n"
          ]
        }
      ]
    },
    {
      "cell_type": "markdown",
      "source": [
        "Вводится число. Вывести его квадрат."
      ],
      "metadata": {
        "id": "GLQsqPxpjnYZ"
      }
    },
    {
      "cell_type": "code",
      "source": [
        "str = int(input())\n",
        "str = str**2\n",
        "print(str)"
      ],
      "metadata": {
        "colab": {
          "base_uri": "https://localhost:8080/"
        },
        "id": "oqpomxuEjsCw",
        "outputId": "45c763b6-3d23-4db9-99ea-f78e4d070a6c"
      },
      "execution_count": 3,
      "outputs": [
        {
          "output_type": "stream",
          "name": "stdout",
          "text": [
            "22\n",
            "484\n"
          ]
        }
      ]
    },
    {
      "cell_type": "markdown",
      "source": [
        "Вводятся часы, минуты и секунды. Вывести, сколько секунд прошло с полуночи.\n",
        "Вывести, какая часть суток прошла (число от 0 до 1)."
      ],
      "metadata": {
        "id": "4y0qSd8Tj9-z"
      }
    },
    {
      "cell_type": "code",
      "source": [
        "hour = int(input())\n",
        "minutes = int(input())\n",
        "seconds = int(input())\n",
        "seconds1 = hour * 3600 + minutes * 60 + seconds\n",
        "daypart = seconds1/(24*60*60)\n",
        "print (\"seconds=\", seconds1, \"daypart=\", daypart)\n",
        "\n"
      ],
      "metadata": {
        "colab": {
          "base_uri": "https://localhost:8080/"
        },
        "id": "mtBs07pTkZ6Z",
        "outputId": "7c20249d-f486-4059-b6fd-78767210451f"
      },
      "execution_count": 4,
      "outputs": [
        {
          "output_type": "stream",
          "name": "stdout",
          "text": [
            "12\n",
            "48\n",
            "22\n",
            "seconds= 46102 daypart= 0.533587962962963\n"
          ]
        }
      ]
    }
  ]
}
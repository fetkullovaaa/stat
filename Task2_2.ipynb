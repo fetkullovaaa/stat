{
  "nbformat": 4,
  "nbformat_minor": 0,
  "metadata": {
    "colab": {
      "provenance": []
    },
    "kernelspec": {
      "name": "python3",
      "display_name": "Python 3"
    },
    "language_info": {
      "name": "python"
    }
  },
  "cells": [
    {
      "cell_type": "markdown",
      "source": [],
      "metadata": {
        "id": "hkd00eSXnWyP"
      }
    },
    {
      "cell_type": "markdown",
      "source": [
        "Вводится число. Вывести, оканчивается ли оно на цифру 7, не используя приведение к строке и операции над строками"
      ],
      "metadata": {
        "id": "WMXTkUsFnYA6"
      }
    },
    {
      "cell_type": "code",
      "source": [
        "chislo = int(input())\n",
        "if chislo % 10 == 7:\n",
        "    print (True)\n",
        "else:\n",
        "    print(False)"
      ],
      "metadata": {
        "id": "AFfFgpTZnyBF"
      },
      "execution_count": null,
      "outputs": []
    },
    {
      "cell_type": "markdown",
      "source": [
        "Вводятся коэффициенты уравнения ax2+bx+c=0. Вывести его корни(не забыть проверить, что a не равно 0)"
      ],
      "metadata": {
        "id": "DbH1-wFooEd6"
      }
    },
    {
      "cell_type": "code",
      "source": [
        "a = int(input())\n",
        "b = int(input())\n",
        "c = int(input())\n",
        "if a == 0:\n",
        "    print(\"x=\", -c/b)\n",
        "else:\n",
        "    d = b*b-4*a*c\n",
        "    if d < 0:\n",
        "        print(\"решений нет\")\n",
        "    elif d == 0:\n",
        "        print(\"x=\", (-b/(2*a)))\n",
        "    else:\n",
        "        print(\"x1=\", (-b+d**(1/2))/(2*a))\n",
        "        print(\"x2=\", (-b-d**(1/2))/(2*a))"
      ],
      "metadata": {
        "colab": {
          "base_uri": "https://localhost:8080/"
        },
        "id": "9f5dPgqmoKzn",
        "outputId": "5e110bd0-c756-41dc-bb96-fcad09c9922d"
      },
      "execution_count": null,
      "outputs": [
        {
          "output_type": "stream",
          "name": "stdout",
          "text": [
            "0\n",
            "15\n",
            "4\n",
            "x= -0.26666666666666666\n"
          ]
        }
      ]
    },
    {
      "cell_type": "markdown",
      "source": [
        "Вводятся три числа. Вывести максимум из них."
      ],
      "metadata": {
        "id": "_MIc1wsJot1T"
      }
    },
    {
      "cell_type": "code",
      "source": [
        "a = int(input())\n",
        "b = int(input())\n",
        "c = int(input())\n",
        "maxchislo = a\n",
        "if b>maxchislo:\n",
        "    maxchislo=b\n",
        "if c>maxchislo:\n",
        "    maxchislo=c\n",
        "print(maxchislo)"
      ],
      "metadata": {
        "colab": {
          "base_uri": "https://localhost:8080/"
        },
        "id": "F0UjZIhFoxTh",
        "outputId": "591f653a-7466-4b90-be61-44d7bea7a58e"
      },
      "execution_count": 2,
      "outputs": [
        {
          "output_type": "stream",
          "name": "stdout",
          "text": [
            "12\n",
            "11\n",
            "23\n",
            "23\n"
          ]
        }
      ]
    },
    {
      "cell_type": "code",
      "source": [],
      "metadata": {
        "id": "VpUZRImSpTxS"
      },
      "execution_count": null,
      "outputs": []
    }
  ]
}
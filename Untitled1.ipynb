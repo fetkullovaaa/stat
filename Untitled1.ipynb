{
  "nbformat": 4,
  "nbformat_minor": 0,
  "metadata": {
    "colab": {
      "provenance": [],
      "authorship_tag": "ABX9TyNlyAtpg+AmiVlTsdkwyWkn",
      "include_colab_link": true
    },
    "kernelspec": {
      "name": "python3",
      "display_name": "Python 3"
    },
    "language_info": {
      "name": "python"
    }
  },
  "cells": [
    {
      "cell_type": "markdown",
      "metadata": {
        "id": "view-in-github",
        "colab_type": "text"
      },
      "source": [
        "<a href=\"https://colab.research.google.com/github/fetkullovaaa/stat/blob/main/Untitled1.ipynb\" target=\"_parent\"><img src=\"https://colab.research.google.com/assets/colab-badge.svg\" alt=\"Open In Colab\"/></a>"
      ]
    },
    {
      "cell_type": "markdown",
      "source": [],
      "metadata": {
        "id": "iCiwZXQzhCIS"
      }
    },
    {
      "cell_type": "code",
      "execution_count": 9,
      "metadata": {
        "id": "UQELVAP6fIqw",
        "colab": {
          "base_uri": "https://localhost:8080/"
        },
        "outputId": "c68ac083-a881-46b3-bade-9548b82d0346"
      },
      "outputs": [
        {
          "output_type": "stream",
          "name": "stdout",
          "text": [
            "12\n",
            "12\n",
            "44\n",
            "seconds= 43964 daypart= 0.5088425925925926\n"
          ]
        }
      ],
      "source": [
        "hour = int(input())\n",
        "minutes = int(input())\n",
        "seconds = int(input())\n",
        "seconds1 = hour * 3600 + minutes * 60 + seconds\n",
        "daypart = seconds1/(24*60*60)\n",
        "print (\"seconds=\", seconds1, \"daypart=\", daypart)\n"
      ]
    },
    {
      "cell_type": "markdown",
      "source": [],
      "metadata": {
        "id": "eLw4ZKYPg91F"
      }
    },
    {
      "cell_type": "code",
      "source": [
        "str = int(input())\n",
        "str = str*2\n",
        "print(str)\n"
      ],
      "metadata": {
        "colab": {
          "base_uri": "https://localhost:8080/"
        },
        "id": "YOZF1A6khp1l",
        "outputId": "9d7d28aa-e70f-442f-8d96-28b71acefd54"
      },
      "execution_count": 8,
      "outputs": [
        {
          "output_type": "stream",
          "name": "stdout",
          "text": [
            "22\n",
            "44\n"
          ]
        }
      ]
    },
    {
      "cell_type": "markdown",
      "source": [],
      "metadata": {
        "id": "bvYZjHFViXDK"
      }
    },
    {
      "cell_type": "code",
      "source": [],
      "metadata": {
        "id": "kScU2IytiWF8"
      },
      "execution_count": null,
      "outputs": []
    }
  ]
}
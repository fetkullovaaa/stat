{
  "metadata": {
    "kernelspec": {
      "name": "python",
      "display_name": "Python (Pyodide)",
      "language": "python"
    },
    "language_info": {
      "codemirror_mode": {
        "name": "python",
        "version": 3
      },
      "file_extension": ".py",
      "mimetype": "text/x-python",
      "name": "python",
      "nbconvert_exporter": "python",
      "pygments_lexer": "ipython3",
      "version": "3.8"
    }
  },
  "nbformat_minor": 5,
  "nbformat": 4,
  "cells": [
    {
      "cell_type": "code",
      "source": "На вход подается строка, состоящая из одного числа. Напишите программу, которая удваивает его.",
      "metadata": {},
      "execution_count": null,
      "outputs": [],
      "id": "9dd7c3d0-9ec1-4be6-aef4-9e30803af9d5"
    },
    {
      "cell_type": "code",
      "source": "str = await int(input())",
      "metadata": {
        "trusted": true
      },
      "execution_count": null,
      "outputs": [
        {
          "output_type": "stream",
          "name": "stdin",
          "text": " 4\n"
        }
      ],
      "id": "71531580-7243-4c1f-a4ff-deca533ce2de"
    },
    {
      "cell_type": "code",
      "source": "str = str*2\nprint(str)",
      "metadata": {
        "trusted": true
      },
      "execution_count": null,
      "outputs": [],
      "id": "75a148bf-c788-4f3c-b569-39a470a6468d"
    },
    {
      "cell_type": "code",
      "source": "Вводится число. Вывести его квадрат.",
      "metadata": {},
      "execution_count": null,
      "outputs": [],
      "id": "880c7c23-6b9d-4e76-abea-cabd40d3b541"
    },
    {
      "cell_type": "code",
      "source": "str = await int(input())",
      "metadata": {},
      "execution_count": null,
      "outputs": [],
      "id": "049f2950-0ea8-4387-b640-03997f7e53fd"
    },
    {
      "cell_type": "code",
      "source": "str = str^2\nprint(str)",
      "metadata": {
        "trusted": true
      },
      "execution_count": null,
      "outputs": [],
      "id": "0bf98525-9e51-4d99-909e-9715ecc6d9b5"
    },
    {
      "cell_type": "code",
      "source": "Вводятся часы, минуты и секунды. Вывести, сколько секунд прошло с полуночи.\nВывести, какая часть суток прошла (число от 0 до 1).",
      "metadata": {},
      "execution_count": null,
      "outputs": [],
      "id": "4bc0e0fc-f850-4dc3-934a-5bab3040f6cb"
    },
    {
      "cell_type": "code",
      "source": "hour = await int(input())\nminutes = await int(input())\nseconds = await int(input())",
      "metadata": {},
      "execution_count": null,
      "outputs": [],
      "id": "171be96b-6b16-4b1b-8f81-f03cdd2d7779"
    },
    {
      "cell_type": "code",
      "source": "seconds1 = hour * 3600 + minutes * 60 + seconds\ndaypart = seconds1/(24*60*60)\nprint (\"seconds=\", seconds1, \"daypart=\", daypart)",
      "metadata": {
        "trusted": true
      },
      "execution_count": 3,
      "outputs": [
        {
          "name": "stdout",
          "text": "seconds= 71652 daypart= 0.8293055555555555\n",
          "output_type": "stream"
        }
      ],
      "id": "410c0fc8-304f-4ee0-b93d-5e55040928c1"
    },
    {
      "cell_type": "code",
      "source": "Вводится число. Вывести, оканчивается ли оно на цифру 7, не используя приведение к строке и операции над строками",
      "metadata": {},
      "execution_count": null,
      "outputs": [],
      "id": "9d3188a2-e52f-4ad2-9cd4-1dd869f66b09"
    },
    {
      "cell_type": "code",
      "source": "chislo = await input()",
      "metadata": {},
      "execution_count": null,
      "outputs": [],
      "id": "9a088956-38f9-45c0-b7cf-96b070aa1516"
    },
    {
      "cell_type": "code",
      "source": "if chislo % 10 == 7:\n    print (True)\nelse:\n    print(False)\n",
      "metadata": {
        "trusted": true
      },
      "execution_count": 4,
      "outputs": [
        {
          "name": "stdout",
          "text": "True\n",
          "output_type": "stream"
        }
      ],
      "id": "82286cc0-1286-4e6f-b23f-31802ff8d91e"
    },
    {
      "cell_type": "code",
      "source": "Вводятся коэффициенты уравнения ax2+bx+c=0. Вывести его корни(не забыть проверить, что a не равно 0)",
      "metadata": {},
      "execution_count": null,
      "outputs": [],
      "id": "71074dff-708e-48b2-a14b-d49ffdf66313"
    },
    {
      "cell_type": "code",
      "source": "a = await int(input())\nb = await int(input())\nc = await int(input())",
      "metadata": {},
      "execution_count": null,
      "outputs": [],
      "id": "a8ab2e95-9216-4292-856f-2f9cd0404ead"
    },
    {
      "cell_type": "code",
      "source": "if a == 0:\n    print(\"x=\", -c/b)\nelse:\n    d = b*b-4*a*c\n    if d < 0:\n        print(\"решений нет\")\n    elif d == 0:\n        print(\"x=\", (-b/(2*a)))\n    else:\n        print(\"x1=\", (-b+d**(1/2))/(2*a))\n        print(\"x2=\", (-b-d**(1/2))/(2*a))",
      "metadata": {
        "trusted": true
      },
      "execution_count": 1,
      "outputs": [
        {
          "ename": "<class 'TypeError'>",
          "evalue": "float() argument must be a string or a real number, not 'Future'",
          "traceback": [
            "\u001b[0;31m---------------------------------------------------------------------------\u001b[0m",
            "\u001b[0;31mTypeError\u001b[0m                                 Traceback (most recent call last)",
            "Cell \u001b[0;32mIn [1], line 1\u001b[0m\n\u001b[0;32m----> 1\u001b[0m a \u001b[38;5;241m=\u001b[39m \u001b[38;5;28mfloat\u001b[39m(\u001b[38;5;28minput\u001b[39m())\n\u001b[1;32m      2\u001b[0m b \u001b[38;5;241m=\u001b[39m \u001b[38;5;28mfloat\u001b[39m(\u001b[38;5;28minput\u001b[39m())\n\u001b[1;32m      3\u001b[0m c \u001b[38;5;241m=\u001b[39m \u001b[38;5;28mfloat\u001b[39m(\u001b[38;5;28minput\u001b[39m())\n",
            "\u001b[0;31mTypeError\u001b[0m: float() argument must be a string or a real number, not 'Future'"
          ],
          "output_type": "error"
        }
      ],
      "id": "5c1aa6b7-a972-4791-a830-6e36de5b7fdc"
    },
    {
      "cell_type": "code",
      "source": "Вводятся три числа. Вывести максимум из них.",
      "metadata": {},
      "execution_count": null,
      "outputs": [],
      "id": "148a1c3b-9d44-4bc0-9041-a98bb45e083b"
    },
    {
      "cell_type": "code",
      "source": "a = await int(input())\nb = await int(input())\nc = await int(input())",
      "metadata": {},
      "execution_count": null,
      "outputs": [],
      "id": "2c6105ac-a00e-487c-ac84-f0a5dd4a0544"
    },
    {
      "cell_type": "code",
      "source": "maxchislo = a\nif b>maxchislo:\n    maxchislo=b\nif c>maxchislo:\n    maxchislo=c\nprint(maxchislo)",
      "metadata": {},
      "execution_count": null,
      "outputs": [],
      "id": "b5036350-1273-4933-9342-83784dfa6de4"
    },
    {
      "cell_type": "code",
      "source": "Вводится число. Вывести среднее арифметическое (с точностью до двух знаков после запятой) тех чисел в диапазоне от единицы до введённого числа, которые делятся 5 или являются четными.",
      "metadata": {},
      "execution_count": null,
      "outputs": [],
      "id": "1b874cb5-108a-4dcc-ad00-eb375655f785"
    },
    {
      "cell_type": "code",
      "source": "chislo = await int(input())",
      "metadata": {},
      "execution_count": null,
      "outputs": [],
      "id": "9414745b-1f3d-4a38-9cb4-8d4544df03bd"
    },
    {
      "cell_type": "code",
      "source": "summ = 0\nsr = 0\nk = 0\nfor i in range (0,chislo+1):\n    if i%5==0 or i%2!=0:\n        summ += i\n        k+=1\n    sr = summ/k\nprint(round(sr, 2))",
      "metadata": {},
      "execution_count": null,
      "outputs": [],
      "id": "d9fc983a-e387-4f36-894a-c53710f3348e"
    }
  ]
}
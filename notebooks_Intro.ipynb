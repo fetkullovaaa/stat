{
  "metadata": {
    "kernelspec": {
      "name": "python",
      "display_name": "Python (Pyodide)",
      "language": "python"
    },
    "language_info": {
      "codemirror_mode": {
        "name": "python",
        "version": 3
      },
      "file_extension": ".py",
      "mimetype": "text/x-python",
      "name": "python",
      "nbconvert_exporter": "python",
      "pygments_lexer": "ipython3",
      "version": "3.8"
    }
  },
  "nbformat_minor": 5,
  "nbformat": 4,
  "cells": [
    {
      "cell_type": "code",
      "source": "str = (\"Hello world!\")\nstr = len(str)\nprint(str)",
      "metadata": {
        "trusted": true
      },
      "execution_count": 3,
      "outputs": [
        {
          "name": "stdout",
          "text": "12\n",
          "output_type": "stream"
        }
      ],
      "id": "036bd62d-c6d0-4605-b872-1b213316926b"
    },
    {
      "cell_type": "code",
      "source": "str = (\"Hello world!\")\nstr = str[::-1]\nprint(str)",
      "metadata": {
        "trusted": true
      },
      "execution_count": 4,
      "outputs": [
        {
          "name": "stdout",
          "text": "!dlrow olleH\n",
          "output_type": "stream"
        }
      ],
      "id": "ea172214-4d88-40ef-98da-732e84bfb6d9"
    },
    {
      "cell_type": "code",
      "source": "str = (\"Hello world!\")\nstr = str[6:11]\nprint(str)",
      "metadata": {
        "trusted": true
      },
      "execution_count": 6,
      "outputs": [
        {
          "name": "stdout",
          "text": "world\n",
          "output_type": "stream"
        }
      ],
      "id": "42619976-b751-4c1e-bf7e-ef050134924d"
    },
    {
      "cell_type": "code",
      "source": "",
      "metadata": {},
      "execution_count": null,
      "outputs": [],
      "id": "f282f917-b6f5-4a68-9d7a-eee398808de8"
    }
  ]
}
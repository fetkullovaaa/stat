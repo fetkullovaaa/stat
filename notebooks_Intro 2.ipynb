{
  "metadata": {
    "kernelspec": {
      "name": "python",
      "display_name": "Python (Pyodide)",
      "language": "python"
    },
    "language_info": {
      "codemirror_mode": {
        "name": "python",
        "version": 3
      },
      "file_extension": ".py",
      "mimetype": "text/x-python",
      "name": "python",
      "nbconvert_exporter": "python",
      "pygments_lexer": "ipython3",
      "version": "3.8"
    }
  },
  "nbformat_minor": 5,
  "nbformat": 4,
  "cells": [
    {
      "cell_type": "code",
      "source": "string = (\"hello world!\")\nstring = len(string)\nprint(string)",
      "metadata": {
        "trusted": true
      },
      "execution_count": null,
      "outputs": [],
      "id": "9dc17cb4-c8c2-4838-a2a3-fbbedc5c65f8"
    },
    {
      "cell_type": "code",
      "source": "string = (\"hello world!\")\nstring = string[::-1]\nprint(string)",
      "metadata": {
        "trusted": true
      },
      "execution_count": null,
      "outputs": [],
      "id": "49b662b8-b53e-40db-a4d9-1b1765c995b2"
    },
    {
      "cell_type": "code",
      "source": "string = (\"hello world!\")\nstring = string[6:11]\nprint(string)",
      "metadata": {
        "trusted": true
      },
      "execution_count": null,
      "outputs": [],
      "id": "a626c104-8392-4fa1-9d5e-f56a82003069"
    },
    {
      "cell_type": "code",
      "source": "string = (\"123 456\")\nstring = string.split(\" \")\nstring = string[::-1]\nstring = ' '.join(string)\nprint(string)",
      "metadata": {
        "trusted": true
      },
      "execution_count": null,
      "outputs": [],
      "id": "fe9584e2-19d8-4ef7-9a4c-7f24bd01ed19"
    },
    {
      "cell_type": "code",
      "source": "string = (\"iam@gmail.ru\")\nstring = string.split(\"@\")\nprint(string[0])",
      "metadata": {
        "trusted": true
      },
      "execution_count": 6,
      "outputs": [
        {
          "name": "stdout",
          "text": "iam\n",
          "output_type": "stream"
        }
      ],
      "id": "3ca6e11f-96ad-4741-80c3-3856f8ebe1cc"
    },
    {
      "cell_type": "code",
      "source": "number = (\"7(495) 234-56-78\")\nnumber = number.replace(\" \",\"\").replace(\"(\",\"\").replace(\")\",\"\").replace(\"-\",\"\")\nprint(number)",
      "metadata": {
        "trusted": true
      },
      "execution_count": null,
      "outputs": [],
      "id": "c64e70c0-66c5-47b3-9939-dd237273ca16"
    },
    {
      "cell_type": "code",
      "source": "string = (\"hello world!\")\nstring = string.split(\" \")\nstring = \\n.join(string)\nprint(string)",
      "metadata": {
        "trusted": true
      },
      "execution_count": null,
      "outputs": [],
      "id": "d5d37959-361e-437d-b372-535e98a2aeb5"
    },
    {
      "cell_type": "code",
      "source": "string = (\"qwerty454ytrewq\")\nl = len(string)\nl = l//2\nfor i in range(l):\n    if string[i]!=string[-1-i]:\n        print(\"not polindrome\")\n        break\n    else:\n        print(\"polindrome\")",
      "metadata": {
        "trusted": true
      },
      "execution_count": null,
      "outputs": [],
      "id": "44389ca8-6ca6-4985-9f2e-13771a601540"
    },
    {
      "cell_type": "code",
      "source": "",
      "metadata": {},
      "execution_count": null,
      "outputs": [],
      "id": "75a148bf-c788-4f3c-b569-39a470a6468d"
    }
  ]
}